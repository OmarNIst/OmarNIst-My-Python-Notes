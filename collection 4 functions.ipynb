{
 "cells": [
  {
   "cell_type": "code",
   "execution_count": 1,
   "id": "ec2e9db0",
   "metadata": {},
   "outputs": [],
   "source": [
    "def f():\n",
    "    print(\"hello wold\")\n",
    "    "
   ]
  },
  {
   "cell_type": "code",
   "execution_count": 2,
   "id": "f6b3152b",
   "metadata": {},
   "outputs": [
    {
     "name": "stdout",
     "output_type": "stream",
     "text": [
      "hello wold\n"
     ]
    }
   ],
   "source": [
    "f()"
   ]
  },
  {
   "cell_type": "code",
   "execution_count": 3,
   "id": "ff23a41f",
   "metadata": {},
   "outputs": [
    {
     "name": "stdout",
     "output_type": "stream",
     "text": [
      "hello world\n"
     ]
    }
   ],
   "source": [
    "def f(a):\n",
    "    print(a)\n",
    "f('hello world')    "
   ]
  },
  {
   "cell_type": "code",
   "execution_count": 4,
   "id": "b734b6cb",
   "metadata": {},
   "outputs": [
    {
     "name": "stdout",
     "output_type": "stream",
     "text": [
      "15\n"
     ]
    }
   ],
   "source": [
    "def rectangle(a,b):\n",
    "    area = a*b\n",
    "    return area\n",
    "A = rectangle(3,5)      # A: area\n",
    "print(A)"
   ]
  },
  {
   "cell_type": "code",
   "execution_count": 5,
   "id": "e973c209",
   "metadata": {},
   "outputs": [
    {
     "name": "stdout",
     "output_type": "stream",
     "text": [
      "15 16\n"
     ]
    }
   ],
   "source": [
    "def rectangle(a,b):            #\n",
    "    length = 2*(a+b)           #   function define \n",
    "    area = a*b                 #\n",
    "    return area, length        #\n",
    "A , L = rectangle(3,5)      # A: area  & L : is length\n",
    "print(A,L)"
   ]
  },
  {
   "cell_type": "code",
   "execution_count": 6,
   "id": "715c42b3",
   "metadata": {},
   "outputs": [
    {
     "name": "stdout",
     "output_type": "stream",
     "text": [
      "15 16\n"
     ]
    }
   ],
   "source": [
    "# in some cases you want to keep the number of arguments arbitrary / you don't want to \n",
    "# define dont want to define how many parpameter you have in the begining and yah for that \n",
    "# we can use this star \n",
    "def rectangle(*args):            # or to give the name  of the argument its a type of list actually\n",
    "    length = 2*(args[0]+args[1])           #   function define \n",
    "    area = args[0]*args[1]                 #\n",
    "    return area, length        #\n",
    "A , L = rectangle(3,5)      # A: area  & L : is length\n",
    "print(A,L)"
   ]
  },
  {
   "cell_type": "code",
   "execution_count": 7,
   "id": "49895a3e",
   "metadata": {},
   "outputs": [
    {
     "ename": "IndexError",
     "evalue": "tuple index out of range",
     "output_type": "error",
     "traceback": [
      "\u001b[0;31m---------------------------------------------------------------------------\u001b[0m",
      "\u001b[0;31mIndexError\u001b[0m                                Traceback (most recent call last)",
      "Input \u001b[0;32mIn [7]\u001b[0m, in \u001b[0;36m<module>\u001b[0;34m\u001b[0m\n\u001b[1;32m      6\u001b[0m     area \u001b[38;5;241m=\u001b[39m args[\u001b[38;5;241m0\u001b[39m]\u001b[38;5;241m*\u001b[39margs[\u001b[38;5;241m1\u001b[39m]                 \u001b[38;5;66;03m#\u001b[39;00m\n\u001b[1;32m      7\u001b[0m     \u001b[38;5;28;01mreturn\u001b[39;00m area, length        \u001b[38;5;66;03m#\u001b[39;00m\n\u001b[0;32m----> 8\u001b[0m A , L \u001b[38;5;241m=\u001b[39m \u001b[43mrectangle\u001b[49m\u001b[43m(\u001b[49m\u001b[38;5;241;43m3\u001b[39;49m\u001b[43m)\u001b[49m \u001b[38;5;66;03m# if we remove one  the last element  then of course python will give an error \u001b[39;00m\n\u001b[1;32m      9\u001b[0m \u001b[38;5;28mprint\u001b[39m(A,L)\n",
      "Input \u001b[0;32mIn [7]\u001b[0m, in \u001b[0;36mrectangle\u001b[0;34m(*args)\u001b[0m\n\u001b[1;32m      4\u001b[0m \u001b[38;5;28;01mdef\u001b[39;00m \u001b[38;5;21mrectangle\u001b[39m(\u001b[38;5;241m*\u001b[39margs):            \u001b[38;5;66;03m# or to give the name  of the argument its a type of list actually\u001b[39;00m\n\u001b[0;32m----> 5\u001b[0m     length \u001b[38;5;241m=\u001b[39m \u001b[38;5;241m2\u001b[39m\u001b[38;5;241m*\u001b[39m(args[\u001b[38;5;241m0\u001b[39m]\u001b[38;5;241m+\u001b[39m\u001b[43margs\u001b[49m\u001b[43m[\u001b[49m\u001b[38;5;241;43m1\u001b[39;49m\u001b[43m]\u001b[49m)           \u001b[38;5;66;03m#   function define \u001b[39;00m\n\u001b[1;32m      6\u001b[0m     area \u001b[38;5;241m=\u001b[39m args[\u001b[38;5;241m0\u001b[39m]\u001b[38;5;241m*\u001b[39margs[\u001b[38;5;241m1\u001b[39m]                 \u001b[38;5;66;03m#\u001b[39;00m\n\u001b[1;32m      7\u001b[0m     \u001b[38;5;28;01mreturn\u001b[39;00m area, length\n",
      "\u001b[0;31mIndexError\u001b[0m: tuple index out of range"
     ]
    }
   ],
   "source": [
    "# in some cases you want to keep the number of arguments arbitrary / you don't want to \n",
    "# define dont want to define how many parpameter you have in the begining and yah for that \n",
    "# we can use this star \n",
    "def rectangle(*args):            # or to give the name  of the argument its a type of list actually\n",
    "    length = 2*(args[0]+args[1])           #   function define \n",
    "    area = args[0]*args[1]                 #\n",
    "    return area, length        #\n",
    "A , L = rectangle(3) # if we remove one  the last element  then of course python will give an error \n",
    "print(A,L)           # becouse  also expects  another arrgument in that list which is args[1]"
   ]
  },
  {
   "cell_type": "code",
   "execution_count": null,
   "id": "e505adf3",
   "metadata": {},
   "outputs": [],
   "source": [
    " def rectangle(*args):            \n",
    "    length = 2*(args[0]+args[1])          \n",
    "    area = args[0]*args[1]                 \n",
    "    return area, length        \n",
    "A , L = rectangle(3,10) \n",
    "print(A,L) "
   ]
  },
  {
   "cell_type": "code",
   "execution_count": null,
   "id": "33a193a0",
   "metadata": {},
   "outputs": [],
   "source": [
    " def rectangle(**args):            \n",
    "    length = 2*(args['a']+args['b'])          \n",
    "    area = args['a']*args['b']                 \n",
    "    return area, length        \n",
    "A , L = rectangle( a = 3, b = 10) \n",
    "print(A,L) "
   ]
  },
  {
   "cell_type": "code",
   "execution_count": 12,
   "id": "9fa86c7d",
   "metadata": {},
   "outputs": [
    {
     "name": "stdout",
     "output_type": "stream",
     "text": [
      "15 13\n"
     ]
    }
   ],
   "source": [
    " def rectangle(a = 5 , b =3):            \n",
    "    length = 2* a+b         \n",
    "    area = a*b                 \n",
    "    return area, length        \n",
    "A , L = rectangle() \n",
    "print(A,L) "
   ]
  },
  {
   "cell_type": "code",
   "execution_count": 13,
   "id": "b7070eb1",
   "metadata": {},
   "outputs": [
    {
     "name": "stdout",
     "output_type": "stream",
     "text": [
      "30 23\n"
     ]
    }
   ],
   "source": [
    " def rectangle(a = 5 , b =3):            \n",
    "    length = 2* a+b         \n",
    "    area = a*b                 \n",
    "    return area, length        \n",
    "A , L = rectangle(10) \n",
    "print(A,L) "
   ]
  },
  {
   "cell_type": "code",
   "execution_count": 14,
   "id": "954ac8d7",
   "metadata": {},
   "outputs": [
    {
     "name": "stdout",
     "output_type": "stream",
     "text": [
      "120\n"
     ]
    }
   ],
   "source": [
    "def faculty(n):\n",
    "    if n > 0:\n",
    "        return n*faculty(n-1)\n",
    "    else:\n",
    "         return 1\n",
    "         \n",
    "print(faculty(5))"
   ]
  },
  {
   "cell_type": "code",
   "execution_count": 20,
   "id": "8d1ac566",
   "metadata": {},
   "outputs": [
    {
     "name": "stdout",
     "output_type": "stream",
     "text": [
      "Hello world!\n",
      "Hello world!\n"
     ]
    }
   ],
   "source": [
    "a = 'Hello world!'\n",
    "\n",
    "def f():\n",
    "    \n",
    "     print(a)   \n",
    "f()\n",
    "print(a)"
   ]
  },
  {
   "cell_type": "code",
   "execution_count": 21,
   "id": "752ad813",
   "metadata": {},
   "outputs": [
    {
     "name": "stdout",
     "output_type": "stream",
     "text": [
      "Hello world!\n",
      "Hello world!\n"
     ]
    }
   ],
   "source": [
    "a = 'Hello world!'\n",
    "\n",
    "def f():\n",
    "    \n",
    "     global a\n",
    "     \n",
    "     a = 'Hello world!'\n",
    "    \n",
    "     print(a)   \n",
    "f()\n",
    "print(a)"
   ]
  }
 ],
 "metadata": {
  "kernelspec": {
   "display_name": "Python 3 (ipykernel)",
   "language": "python",
   "name": "python3"
  },
  "language_info": {
   "codemirror_mode": {
    "name": "ipython",
    "version": 3
   },
   "file_extension": ".py",
   "mimetype": "text/x-python",
   "name": "python",
   "nbconvert_exporter": "python",
   "pygments_lexer": "ipython3",
   "version": "3.9.7"
  }
 },
 "nbformat": 4,
 "nbformat_minor": 5
}
