{
 "cells": [
  {
   "cell_type": "code",
   "execution_count": 1,
   "id": "93c09b0e",
   "metadata": {},
   "outputs": [
    {
     "name": "stdout",
     "output_type": "stream",
     "text": [
      "0\n",
      "1\n",
      "2\n",
      "3\n",
      "4\n",
      "5\n",
      "6\n",
      "7\n",
      "8\n",
      "9\n"
     ]
    }
   ],
   "source": [
    "for i in range(10):\n",
    "    print(i)"
   ]
  },
  {
   "cell_type": "code",
   "execution_count": 2,
   "id": "d0c709e5",
   "metadata": {},
   "outputs": [
    {
     "name": "stdout",
     "output_type": "stream",
     "text": [
      "2\n",
      "3\n",
      "4\n",
      "5\n",
      "6\n",
      "7\n",
      "8\n",
      "9\n"
     ]
    }
   ],
   "source": [
    "for i in range(2,10):\n",
    "    print(i)"
   ]
  },
  {
   "cell_type": "code",
   "execution_count": 3,
   "id": "ec584f87",
   "metadata": {},
   "outputs": [
    {
     "name": "stdout",
     "output_type": "stream",
     "text": [
      "4\n",
      "6\n",
      "8\n",
      "10\n",
      "12\n",
      "14\n"
     ]
    }
   ],
   "source": [
    "for i in range(4,15,2):\n",
    "    print(i)"
   ]
  },
  {
   "cell_type": "code",
   "execution_count": 4,
   "id": "eba94119",
   "metadata": {},
   "outputs": [
    {
     "name": "stdout",
     "output_type": "stream",
     "text": [
      "the total sum is 4\n",
      "the total sum is 11\n",
      "the total sum is 21\n",
      "the total sum is 34\n",
      "the total sum is 50\n",
      "the total sum is 69\n"
     ]
    }
   ],
   "source": [
    "sum =0\n",
    "for i in range(4,20,3):\n",
    "    sum = sum + i\n",
    "    print('the total sum is '+str(sum))          # +str() must be put "
   ]
  },
  {
   "cell_type": "code",
   "execution_count": 5,
   "id": "f6700e15",
   "metadata": {},
   "outputs": [
    {
     "name": "stdout",
     "output_type": "stream",
     "text": [
      "0\n",
      "1\n",
      "2\n",
      "3\n",
      "4\n",
      "5\n",
      "6\n",
      "7\n",
      "8\n",
      "9\n",
      "loop sucssful\n"
     ]
    }
   ],
   "source": [
    "for i in range(10):\n",
    "    print(i)\n",
    "    \n",
    "else: \n",
    "    print('loop sucssful')"
   ]
  },
  {
   "cell_type": "code",
   "execution_count": 31,
   "id": "b95dada1",
   "metadata": {},
   "outputs": [
    {
     "name": "stdout",
     "output_type": "stream",
     "text": [
      "0\n",
      "1\n",
      "2\n",
      "3\n"
     ]
    }
   ],
   "source": [
    "for j in range(10):\n",
    "    if j >3:\n",
    "        break\n",
    "    print(j)"
   ]
  },
  {
   "cell_type": "code",
   "execution_count": 33,
   "id": "55affcb2",
   "metadata": {},
   "outputs": [],
   "source": [
    "for j in range(10):\n",
    "    if j >3:\n",
    "        break\n",
    "        print(j)        #their is no output"
   ]
  },
  {
   "cell_type": "code",
   "execution_count": 6,
   "id": "733b64c1",
   "metadata": {},
   "outputs": [
    {
     "name": "stdout",
     "output_type": "stream",
     "text": [
      "0\n",
      "1\n",
      "2\n",
      "3\n",
      "4\n"
     ]
    }
   ],
   "source": [
    "for i in range(10):\n",
    "    if i == 5:\n",
    "        break       # this break\n",
    "    print(i)\n",
    "    \n",
    "else: \n",
    "    print('loop sucssful')"
   ]
  },
  {
   "cell_type": "code",
   "execution_count": 7,
   "id": "81d87d8c",
   "metadata": {},
   "outputs": [
    {
     "name": "stdout",
     "output_type": "stream",
     "text": [
      "0\n",
      "1\n",
      "2\n",
      "3\n",
      "4\n",
      "6\n",
      "7\n",
      "8\n",
      "9\n",
      "loop sucssful\n"
     ]
    }
   ],
   "source": [
    "for i in range(10):\n",
    "    if i == 5:\n",
    "        continue      # five is note included\n",
    "    print(i)\n",
    "    \n",
    "else: \n",
    "    print('loop sucssful')"
   ]
  },
  {
   "cell_type": "code",
   "execution_count": 8,
   "id": "6b923e08",
   "metadata": {},
   "outputs": [
    {
     "name": "stdout",
     "output_type": "stream",
     "text": [
      "0 0\n",
      "0 1\n",
      "0 2\n",
      "0 3\n",
      "0 4\n",
      "1 0\n",
      "1 1\n",
      "1 2\n",
      "1 3\n",
      "1 4\n",
      "2 0\n",
      "2 1\n",
      "2 2\n",
      "2 3\n",
      "2 4\n",
      "3 0\n",
      "3 1\n",
      "3 2\n",
      "3 3\n",
      "3 4\n",
      "4 0\n",
      "4 1\n",
      "4 2\n",
      "4 3\n",
      "4 4\n",
      "5 0\n",
      "5 1\n",
      "5 2\n",
      "5 3\n",
      "5 4\n",
      "6 0\n",
      "6 1\n",
      "6 2\n",
      "6 3\n",
      "6 4\n",
      "7 0\n",
      "7 1\n",
      "7 2\n",
      "7 3\n",
      "7 4\n",
      "8 0\n",
      "8 1\n",
      "8 2\n",
      "8 3\n",
      "8 4\n",
      "9 0\n",
      "9 1\n",
      "9 2\n",
      "9 3\n",
      "9 4\n"
     ]
    }
   ],
   "source": [
    "for i in range(10):\n",
    "    for j in range(5):\n",
    "        print(i,j)"
   ]
  },
  {
   "cell_type": "code",
   "execution_count": 9,
   "id": "e311ca55",
   "metadata": {},
   "outputs": [
    {
     "name": "stdout",
     "output_type": "stream",
     "text": [
      "C\n",
      "A\n",
      "R\n"
     ]
    }
   ],
   "source": [
    "vehicles = 'CAR'\n",
    "\n",
    "for letter in vehicles:\n",
    "    print(letter)"
   ]
  },
  {
   "cell_type": "code",
   "execution_count": 16,
   "id": "f84a73ab",
   "metadata": {},
   "outputs": [
    {
     "name": "stdout",
     "output_type": "stream",
     "text": [
      "rose\n",
      "cyclamen\n",
      "daisy\n",
      " tulip \n"
     ]
    }
   ],
   "source": [
    "flowers=[\"rose\" , \"cyclamen\" , \"daisy\" , \" tulip \"]\n",
    "for x in flowers :\n",
    "    print(x)"
   ]
  },
  {
   "cell_type": "code",
   "execution_count": 10,
   "id": "ecb8d6b4",
   "metadata": {},
   "outputs": [
    {
     "name": "stdout",
     "output_type": "stream",
     "text": [
      "CAR\n",
      "bus\n",
      "trak\n"
     ]
    }
   ],
   "source": [
    "vehicles = ['CAR','bus','trak']\n",
    "\n",
    "for vehicles in vehicles:\n",
    "    print(vehicles)"
   ]
  },
  {
   "cell_type": "code",
   "execution_count": 11,
   "id": "b00b8184",
   "metadata": {},
   "outputs": [
    {
     "name": "stdout",
     "output_type": "stream",
     "text": [
      "CAR\n"
     ]
    }
   ],
   "source": [
    "vehicles = ['CAR','bus','trak']\n",
    "\n",
    "for vehicles in vehicles:\n",
    "    if vehicles == 'bus':\n",
    "                    break;\n",
    "    print(vehicles)"
   ]
  },
  {
   "cell_type": "code",
   "execution_count": 12,
   "id": "aa3c467f",
   "metadata": {},
   "outputs": [
    {
     "name": "stdout",
     "output_type": "stream",
     "text": [
      "0\n",
      "1\n",
      "2\n",
      "3\n",
      "4\n"
     ]
    }
   ],
   "source": [
    "i = 0\n",
    "while i<5:\n",
    "    print (i)\n",
    "    i += 1"
   ]
  },
  {
   "cell_type": "code",
   "execution_count": 13,
   "id": "d961b040",
   "metadata": {},
   "outputs": [],
   "source": [
    "#i = 0\n",
    "#while True:     #this will do the loop until infinity\n",
    "   # print (i)\n",
    "   # i += 1"
   ]
  },
  {
   "cell_type": "code",
   "execution_count": 14,
   "id": "e307be00",
   "metadata": {},
   "outputs": [
    {
     "name": "stdout",
     "output_type": "stream",
     "text": [
      "0\n",
      "1\n",
      "2\n",
      "3\n",
      "4\n",
      "5\n"
     ]
    }
   ],
   "source": [
    "i = 0\n",
    "while True: \n",
    "    print (i)\n",
    "    if i ==5:\n",
    "        break\n",
    "    i += 1"
   ]
  },
  {
   "cell_type": "code",
   "execution_count": 15,
   "id": "cc1f5ef5",
   "metadata": {},
   "outputs": [
    {
     "name": "stdout",
     "output_type": "stream",
     "text": [
      "0\n",
      "1\n",
      "2\n",
      "3\n",
      "4\n"
     ]
    }
   ],
   "source": [
    "i = 0\n",
    "while True: \n",
    "    print (i)\n",
    "    i += 1\n",
    "    if i ==5:\n",
    "        break\n",
    "    "
   ]
  },
  {
   "cell_type": "code",
   "execution_count": 20,
   "id": "5072cc68",
   "metadata": {},
   "outputs": [
    {
     "name": "stdout",
     "output_type": "stream",
     "text": [
      "23.08679276123039\n",
      "26.68332812825267\n",
      "30.4138126514911\n"
     ]
    }
   ],
   "source": [
    "from math import sqrt\n",
    "numbers=[533,712,925]\n",
    "for x in numbers:\n",
    "    print( sqrt (x) ) "
   ]
  },
  {
   "cell_type": "code",
   "execution_count": 22,
   "id": "d7a12a82",
   "metadata": {},
   "outputs": [
    {
     "name": "stdout",
     "output_type": "stream",
     "text": [
      "0\n",
      "1\n",
      "2\n"
     ]
    }
   ],
   "source": [
    "a=3\n",
    "for i in range(a ) :\n",
    "    print( i )"
   ]
  },
  {
   "cell_type": "code",
   "execution_count": 25,
   "id": "bd40d49a",
   "metadata": {},
   "outputs": [
    {
     "name": "stdout",
     "output_type": "stream",
     "text": [
      "0 rose\n",
      "1 cyclamen\n",
      "2 daisy\n",
      "3 tulip\n"
     ]
    }
   ],
   "source": [
    "flowers=['rose' ,'cyclamen', 'daisy' , 'tulip' ]\n",
    "for i ,x in enumerate( flowers ) :\n",
    "    print( i ,x)"
   ]
  },
  {
   "cell_type": "code",
   "execution_count": 26,
   "id": "7e133307",
   "metadata": {},
   "outputs": [
    {
     "name": "stdout",
     "output_type": "stream",
     "text": [
      "15 rose\n",
      "16 cyclamen\n",
      "17 daisy\n",
      "18 tulip\n"
     ]
    }
   ],
   "source": [
    "flowers=['rose' ,'cyclamen', 'daisy' , 'tulip' ]\n",
    "for i ,x in enumerate(flowers ,15):\n",
    "    print( i ,x)"
   ]
  },
  {
   "cell_type": "code",
   "execution_count": 35,
   "id": "70ce939f",
   "metadata": {},
   "outputs": [
    {
     "name": "stdout",
     "output_type": "stream",
     "text": [
      "0\n",
      "2\n",
      "4\n"
     ]
    }
   ],
   "source": [
    "#  The continue Statement\n",
    "for i in range (5):\n",
    "    if i%2>0:\n",
    "        continue\n",
    "    print(i)"
   ]
  },
  {
   "cell_type": "code",
   "execution_count": 44,
   "id": "0785a78b",
   "metadata": {},
   "outputs": [
    {
     "name": "stdout",
     "output_type": "stream",
     "text": [
      "Current Letter : P\n",
      "Current Letter : y\n",
      "Current Letter : t\n",
      "Current Letter : o\n",
      "Current Letter : n\n"
     ]
    }
   ],
   "source": [
    "for letter in 'Python':     # First Example\n",
    "    if letter == 'h':\n",
    "        continue\n",
    "    print ('Current Letter :', letter)"
   ]
  },
  {
   "cell_type": "code",
   "execution_count": 43,
   "id": "abe13675",
   "metadata": {},
   "outputs": [
    {
     "name": "stdout",
     "output_type": "stream",
     "text": [
      "Current Letter : n\n"
     ]
    }
   ],
   "source": [
    "#the position is very important\n",
    "for letter in 'Python':     # First Example\n",
    "    if letter == 'h':\n",
    "        continue\n",
    "print ('Current Letter :', letter)      "
   ]
  }
 ],
 "metadata": {
  "kernelspec": {
   "display_name": "Python 3 (ipykernel)",
   "language": "python",
   "name": "python3"
  },
  "language_info": {
   "codemirror_mode": {
    "name": "ipython",
    "version": 3
   },
   "file_extension": ".py",
   "mimetype": "text/x-python",
   "name": "python",
   "nbconvert_exporter": "python",
   "pygments_lexer": "ipython3",
   "version": "3.9.7"
  }
 },
 "nbformat": 4,
 "nbformat_minor": 5
}
