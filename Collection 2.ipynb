{
 "cells": [
  {
   "cell_type": "code",
   "execution_count": 1,
   "id": "af1b0076",
   "metadata": {},
   "outputs": [],
   "source": [
    "L = [1,2,3,4,5,6,7]"
   ]
  },
  {
   "cell_type": "code",
   "execution_count": 2,
   "id": "dba2f253",
   "metadata": {},
   "outputs": [
    {
     "name": "stdout",
     "output_type": "stream",
     "text": [
      "7\n"
     ]
    }
   ],
   "source": [
    "print(len(L))  # is the number of items that the list contains\n",
    "\n",
    "#  len()  this function is not doing anything eles  just counting the number of items inside the List"
   ]
  },
  {
   "cell_type": "code",
   "execution_count": 3,
   "id": "c3da1813",
   "metadata": {},
   "outputs": [
    {
     "data": {
      "text/plain": [
       "6"
      ]
     },
     "execution_count": 3,
     "metadata": {},
     "output_type": "execute_result"
    }
   ],
   "source": [
    "L[5]"
   ]
  },
  {
   "cell_type": "code",
   "execution_count": 4,
   "id": "b59838d1",
   "metadata": {},
   "outputs": [
    {
     "name": "stdout",
     "output_type": "stream",
     "text": [
      "6\n"
     ]
    }
   ],
   "source": [
    "a = L[5]\n",
    "print(a)"
   ]
  },
  {
   "cell_type": "code",
   "execution_count": 5,
   "id": "40c8b2ca",
   "metadata": {},
   "outputs": [],
   "source": [
    "vehicles = ['car','bus', 'truck','airplane']"
   ]
  },
  {
   "cell_type": "code",
   "execution_count": 6,
   "id": "f5bcfcda",
   "metadata": {},
   "outputs": [
    {
     "name": "stdout",
     "output_type": "stream",
     "text": [
      "['car', 'bike', 'truck', 'airplane']\n"
     ]
    }
   ],
   "source": [
    "vehicles[1] = 'bike'\n",
    "print(vehicles)"
   ]
  },
  {
   "cell_type": "code",
   "execution_count": 7,
   "id": "0f5acdc7",
   "metadata": {},
   "outputs": [],
   "source": [
    "vehicles.insert(1,'boat')"
   ]
  },
  {
   "cell_type": "code",
   "execution_count": 8,
   "id": "6362fd3a",
   "metadata": {},
   "outputs": [
    {
     "name": "stdout",
     "output_type": "stream",
     "text": [
      "['car', 'boat', 'bike', 'truck', 'airplane']\n"
     ]
    }
   ],
   "source": [
    "print(vehicles)"
   ]
  },
  {
   "cell_type": "code",
   "execution_count": 9,
   "id": "87a1c653",
   "metadata": {},
   "outputs": [
    {
     "name": "stdout",
     "output_type": "stream",
     "text": [
      "['car', 'boat', 'bike', 'truck', 'airplane', 'helicopter']\n"
     ]
    }
   ],
   "source": [
    "vehicles.append('helicopter')\n",
    "print(vehicles)"
   ]
  },
  {
   "cell_type": "code",
   "execution_count": 10,
   "id": "d42163d0",
   "metadata": {},
   "outputs": [],
   "source": [
    "building = ['house','school','supermarket']"
   ]
  },
  {
   "cell_type": "code",
   "execution_count": 11,
   "id": "b53d14bf",
   "metadata": {},
   "outputs": [],
   "source": [
    "vehicles.extend(building)        # extend to add list to another list"
   ]
  },
  {
   "cell_type": "code",
   "execution_count": 12,
   "id": "f76c05ec",
   "metadata": {},
   "outputs": [
    {
     "name": "stdout",
     "output_type": "stream",
     "text": [
      "['car', 'boat', 'bike', 'truck', 'airplane', 'helicopter', 'house', 'school', 'supermarket']\n"
     ]
    }
   ],
   "source": [
    "print(vehicles)"
   ]
  },
  {
   "cell_type": "code",
   "execution_count": 13,
   "id": "4c35ef38",
   "metadata": {},
   "outputs": [],
   "source": [
    "vehicles.remove('bike')"
   ]
  },
  {
   "cell_type": "code",
   "execution_count": 14,
   "id": "933f11a7",
   "metadata": {},
   "outputs": [
    {
     "name": "stdout",
     "output_type": "stream",
     "text": [
      "['car', 'boat', 'truck', 'airplane', 'helicopter', 'house', 'school', 'supermarket']\n"
     ]
    }
   ],
   "source": [
    "print(vehicles)"
   ]
  },
  {
   "cell_type": "code",
   "execution_count": 15,
   "id": "e745b2bc",
   "metadata": {},
   "outputs": [
    {
     "data": {
      "text/plain": [
       "'house'"
      ]
     },
     "execution_count": 15,
     "metadata": {},
     "output_type": "execute_result"
    }
   ],
   "source": [
    "vehicles.pop(5)     # this will remove the fifth element"
   ]
  },
  {
   "cell_type": "code",
   "execution_count": 16,
   "id": "79dc64d8",
   "metadata": {},
   "outputs": [
    {
     "name": "stdout",
     "output_type": "stream",
     "text": [
      "['car', 'boat', 'truck', 'airplane', 'helicopter', 'school', 'supermarket']\n"
     ]
    }
   ],
   "source": [
    "print(vehicles)"
   ]
  },
  {
   "cell_type": "code",
   "execution_count": 17,
   "id": "8ae739eb",
   "metadata": {},
   "outputs": [],
   "source": [
    "vehicles.clear()  #this function will clear the wholl"
   ]
  },
  {
   "cell_type": "code",
   "execution_count": 18,
   "id": "2217d24a",
   "metadata": {},
   "outputs": [
    {
     "name": "stdout",
     "output_type": "stream",
     "text": [
      "[]\n"
     ]
    }
   ],
   "source": [
    "print(vehicles)"
   ]
  },
  {
   "cell_type": "code",
   "execution_count": 19,
   "id": "c757efe6",
   "metadata": {},
   "outputs": [],
   "source": [
    "vehicles=['car', 'boat', 'bike', 'truck', 'airplane', 'helicopter', 'house', 'school', 'supermarket']"
   ]
  },
  {
   "cell_type": "code",
   "execution_count": 20,
   "id": "6d2ed92a",
   "metadata": {},
   "outputs": [
    {
     "name": "stdout",
     "output_type": "stream",
     "text": [
      "['airplane', 'bike', 'boat', 'car', 'helicopter', 'house', 'school', 'supermarket', 'truck']\n"
     ]
    }
   ],
   "source": [
    "vehicles.sort()      #this command will sort the the list according to alphabet alphabet letters\n",
    "print(vehicles)"
   ]
  },
  {
   "cell_type": "code",
   "execution_count": 21,
   "id": "b9a112b9",
   "metadata": {},
   "outputs": [
    {
     "name": "stdout",
     "output_type": "stream",
     "text": [
      "['truck', 'supermarket', 'school', 'house', 'helicopter', 'car', 'boat', 'bike', 'airplane']\n"
     ]
    }
   ],
   "source": [
    "vehicles.sort(reverse = True)     \n",
    "print(vehicles)"
   ]
  },
  {
   "cell_type": "code",
   "execution_count": 22,
   "id": "3ab6fafd",
   "metadata": {},
   "outputs": [],
   "source": [
    "vehicles = ['car','bus', 'truck','airplane']\n",
    "building = ['house','school','supermarket']"
   ]
  },
  {
   "cell_type": "code",
   "execution_count": 23,
   "id": "5bb216ee",
   "metadata": {},
   "outputs": [
    {
     "name": "stdout",
     "output_type": "stream",
     "text": [
      "['car', 'bus', 'truck', 'airplane', ['house', 'school', 'supermarket']]\n"
     ]
    }
   ],
   "source": [
    "vehicles.append(building)     # list of list \n",
    "print(vehicles)"
   ]
  },
  {
   "cell_type": "code",
   "execution_count": 24,
   "id": "d10ca74b",
   "metadata": {},
   "outputs": [
    {
     "name": "stdout",
     "output_type": "stream",
     "text": [
      "['house', 'school', 'supermarket']\n"
     ]
    }
   ],
   "source": [
    "print(vehicles [4])"
   ]
  },
  {
   "cell_type": "code",
   "execution_count": 25,
   "id": "76d2e5dd",
   "metadata": {},
   "outputs": [
    {
     "name": "stdout",
     "output_type": "stream",
     "text": [
      "school\n"
     ]
    }
   ],
   "source": [
    "print(vehicles [4][1])"
   ]
  },
  {
   "cell_type": "code",
   "execution_count": 33,
   "id": "5ea2c970",
   "metadata": {},
   "outputs": [
    {
     "name": "stdout",
     "output_type": "stream",
     "text": [
      "<built-in method copy of list object at 0x7f82e8215340>\n"
     ]
    }
   ],
   "source": [
    "#copying lists\n",
    "vehicles2 = vehicles.copy\n",
    "print(vehicles2)"
   ]
  },
  {
   "cell_type": "code",
   "execution_count": 34,
   "id": "969aecb1",
   "metadata": {},
   "outputs": [],
   "source": [
    "vehicles[1] = 'bike'"
   ]
  },
  {
   "cell_type": "code",
   "execution_count": 35,
   "id": "bf1a00d2",
   "metadata": {},
   "outputs": [
    {
     "name": "stdout",
     "output_type": "stream",
     "text": [
      "<built-in method copy of list object at 0x7f82e8215340>\n"
     ]
    }
   ],
   "source": [
    "print(vehicles2)"
   ]
  },
  {
   "cell_type": "code",
   "execution_count": 1,
   "id": "a78cdc4c",
   "metadata": {},
   "outputs": [
    {
     "name": "stdout",
     "output_type": "stream",
     "text": [
      "['Lesson', 5, 'Is Fun?', True]\n"
     ]
    }
   ],
   "source": [
    "my_list = [\"Lesson\", 5, \"Is Fun?\", True]\n",
    "\n",
    "print(my_list)"
   ]
  },
  {
   "cell_type": "code",
   "execution_count": 2,
   "id": "392a6c34",
   "metadata": {},
   "outputs": [
    {
     "name": "stdout",
     "output_type": "stream",
     "text": [
      "['L', 'i', 'f', 'e', ' ', 'i', 's', ' ', 'S', 't', 'u', 'd', 'y']\n"
     ]
    }
   ],
   "source": [
    "second_list = list(\"Life is Study\")  # Create a list from a string\n",
    "\n",
    "print(second_list)"
   ]
  },
  {
   "cell_type": "code",
   "execution_count": 3,
   "id": "129276d7",
   "metadata": {},
   "outputs": [
    {
     "name": "stdout",
     "output_type": "stream",
     "text": [
      "[]\n"
     ]
    }
   ],
   "source": [
    "empty_list = []\n",
    "\n",
    "print( empty_list )"
   ]
  },
  {
   "cell_type": "code",
   "execution_count": 4,
   "id": "4f343ee7",
   "metadata": {},
   "outputs": [
    {
     "name": "stdout",
     "output_type": "stream",
     "text": [
      "[\"I'm no longer empty!\"]\n"
     ]
    }
   ],
   "source": [
    "empty_list.append(\"I'm no longer empty!\")\n",
    "\n",
    "print(empty_list)"
   ]
  },
  {
   "cell_type": "code",
   "execution_count": 5,
   "id": "713af34b",
   "metadata": {},
   "outputs": [
    {
     "name": "stdout",
     "output_type": "stream",
     "text": [
      "['Lesson', 'Is Fun?', True]\n"
     ]
    }
   ],
   "source": [
    "my_list.remove(5)\n",
    "\n",
    "print(my_list)"
   ]
  },
  {
   "cell_type": "code",
   "execution_count": 6,
   "id": "3628b65d",
   "metadata": {},
   "outputs": [
    {
     "name": "stdout",
     "output_type": "stream",
     "text": [
      "['Lesson', 'Is Fun?', True, \"I'm no longer empty!\"]\n"
     ]
    }
   ],
   "source": [
    "combined_list = my_list + empty_list\n",
    "\n",
    "print(combined_list)"
   ]
  },
  {
   "cell_type": "code",
   "execution_count": 7,
   "id": "62eec8b3",
   "metadata": {},
   "outputs": [
    {
     "name": "stdout",
     "output_type": "stream",
     "text": [
      "['Lesson', 'Is Fun?', True, \"I'm no longer empty!\"]\n"
     ]
    }
   ],
   "source": [
    "combined_list = my_list\n",
    "\n",
    "combined_list.extend(empty_list)\n",
    "\n",
    "print(combined_list)"
   ]
  },
  {
   "cell_type": "code",
   "execution_count": 8,
   "id": "c69b91b4",
   "metadata": {},
   "outputs": [
    {
     "name": "stdout",
     "output_type": "stream",
     "text": [
      "5\n",
      "9\n",
      "1\n",
      "25\n",
      "5.0\n"
     ]
    }
   ],
   "source": [
    "num_list = [1, 3, 5, 7, 9]\n",
    "print( len(num_list))                # Check the length\n",
    "print( max(num_list))                # Check the max\n",
    "print( min(num_list))                # Check the min\n",
    "print( sum(num_list))                # Check the sum\n",
    "print( sum(num_list)/len(num_list))  # Check the mean*"
   ]
  },
  {
   "cell_type": "code",
   "execution_count": 9,
   "id": "5e3d2127",
   "metadata": {},
   "outputs": [
    {
     "data": {
      "text/plain": [
       "True"
      ]
     },
     "execution_count": 9,
     "metadata": {},
     "output_type": "execute_result"
    }
   ],
   "source": [
    "1 in num_list"
   ]
  },
  {
   "cell_type": "code",
   "execution_count": 10,
   "id": "f8f1d224",
   "metadata": {},
   "outputs": [
    {
     "data": {
      "text/plain": [
       "False"
      ]
     },
     "execution_count": 10,
     "metadata": {},
     "output_type": "execute_result"
    }
   ],
   "source": [
    "1 not in num_list"
   ]
  },
  {
   "cell_type": "code",
   "execution_count": 11,
   "id": "69926c26",
   "metadata": {},
   "outputs": [
    {
     "data": {
      "text/plain": [
       "1"
      ]
     },
     "execution_count": 11,
     "metadata": {},
     "output_type": "execute_result"
    }
   ],
   "source": [
    "num_list.count(3)"
   ]
  },
  {
   "cell_type": "code",
   "execution_count": 12,
   "id": "d7be0840",
   "metadata": {},
   "outputs": [
    {
     "name": "stdout",
     "output_type": "stream",
     "text": [
      "Reversed list [6, 3, 2, 4, 5, 1]\n",
      "Sorted list [1, 2, 3, 4, 5, 6]\n"
     ]
    }
   ],
   "source": [
    "new_list = [1, 5, 4, 2, 3, 6]      # Make a new list\n",
    "\n",
    "new_list.reverse()                 # Reverse the list\n",
    "print(\"Reversed list\", new_list)\n",
    "\n",
    "new_list.sort()                    # Sort the list\n",
    "print(\"Sorted list\", new_list)"
   ]
  },
  {
   "cell_type": "code",
   "execution_count": 13,
   "id": "97648f51",
   "metadata": {},
   "outputs": [
    {
     "name": "stdout",
     "output_type": "stream",
     "text": [
      "Hello\n",
      "bestest\n"
     ]
    }
   ],
   "source": [
    "another_list = [\"Hello\",\"my\", \"bestest\", \"old\", \"friend.\"]\n",
    "\n",
    "print (another_list[0])\n",
    "print (another_list[2])"
   ]
  },
  {
   "cell_type": "code",
   "execution_count": 14,
   "id": "8e396661",
   "metadata": {},
   "outputs": [
    {
     "name": "stdout",
     "output_type": "stream",
     "text": [
      "friend.\n",
      "bestest\n"
     ]
    }
   ],
   "source": [
    "print (another_list[-1])\n",
    "print (another_list[-3])"
   ]
  },
  {
   "cell_type": "code",
   "execution_count": 15,
   "id": "872d7a78",
   "metadata": {},
   "outputs": [
    {
     "ename": "IndexError",
     "evalue": "list index out of range",
     "output_type": "error",
     "traceback": [
      "\u001b[0;31m---------------------------------------------------------------------------\u001b[0m",
      "\u001b[0;31mIndexError\u001b[0m                                Traceback (most recent call last)",
      "Input \u001b[0;32mIn [15]\u001b[0m, in \u001b[0;36m<module>\u001b[0;34m\u001b[0m\n\u001b[0;32m----> 1\u001b[0m \u001b[38;5;28mprint\u001b[39m (\u001b[43manother_list\u001b[49m\u001b[43m[\u001b[49m\u001b[38;5;241;43m5\u001b[39;49m\u001b[43m]\u001b[49m)\n",
      "\u001b[0;31mIndexError\u001b[0m: list index out of range"
     ]
    }
   ],
   "source": [
    "print (another_list[5])\n",
    "\n",
    "# Supplying an index outside of a lists range will result in an IndexError:"
   ]
  },
  {
   "cell_type": "code",
   "execution_count": 16,
   "id": "57868029",
   "metadata": {},
   "outputs": [
    {
     "name": "stdout",
     "output_type": "stream",
     "text": [
      "3\n"
     ]
    }
   ],
   "source": [
    "nested_list = [[1,2,3],[4,5,6],[7,8,9]]\n",
    "\n",
    "print (nested_list[0][2])"
   ]
  },
  {
   "cell_type": "code",
   "execution_count": 17,
   "id": "13bfe6e9",
   "metadata": {},
   "outputs": [
    {
     "name": "stdout",
     "output_type": "stream",
     "text": [
      "['my', 'bestest']\n"
     ]
    }
   ],
   "source": [
    "my_slice =  another_list[1:3]   # Slice index 1 and 2\n",
    "print(my_slice )"
   ]
  },
  {
   "cell_type": "code",
   "execution_count": 18,
   "id": "f834866a",
   "metadata": {},
   "outputs": [
    {
     "name": "stdout",
     "output_type": "stream",
     "text": [
      "['Hello', 'bestest', 'friend.']\n"
     ]
    }
   ],
   "source": [
    "# Slice the entire list but use step size 2 to get every other item:\n",
    "\n",
    "my_slice =  another_list[0:6:2] \n",
    "print(my_slice )"
   ]
  },
  {
   "cell_type": "code",
   "execution_count": 19,
   "id": "87fef876",
   "metadata": {},
   "outputs": [
    {
     "name": "stdout",
     "output_type": "stream",
     "text": [
      "['Hello', 'my', 'bestest', 'old']\n"
     ]
    }
   ],
   "source": [
    "slice1 = another_list[:4]   # Slice everything up to index 4\n",
    "print(slice1)"
   ]
  },
  {
   "cell_type": "code",
   "execution_count": 20,
   "id": "3cca950b",
   "metadata": {},
   "outputs": [
    {
     "name": "stdout",
     "output_type": "stream",
     "text": [
      "['old', 'friend.']\n"
     ]
    }
   ],
   "source": [
    "slice2 = another_list[3:]   # Slice everything from index 3 to the end\n",
    "print(slice2)"
   ]
  },
  {
   "cell_type": "code",
   "execution_count": 21,
   "id": "293c6b36",
   "metadata": {},
   "outputs": [
    {
     "name": "stdout",
     "output_type": "stream",
     "text": [
      "['friend.', 'old']\n"
     ]
    }
   ],
   "source": [
    "# Take a slice starting at index 4, backward to index 2\n",
    "\n",
    "my_slice =  another_list[4:2:-1] \n",
    "print(my_slice )"
   ]
  },
  {
   "cell_type": "code",
   "execution_count": 22,
   "id": "1b55ceb9",
   "metadata": {},
   "outputs": [
    {
     "name": "stdout",
     "output_type": "stream",
     "text": [
      "['Hello', 'my', 'bestest', 'old', 'friend.']\n"
     ]
    }
   ],
   "source": [
    "my_slice =  another_list[:]   # This slice operation copies the list\n",
    "print(my_slice)"
   ]
  },
  {
   "cell_type": "code",
   "execution_count": 23,
   "id": "39a265b7",
   "metadata": {},
   "outputs": [
    {
     "name": "stdout",
     "output_type": "stream",
     "text": [
      "['friend.', 'old', 'bestest', 'my', 'Hello']\n"
     ]
    }
   ],
   "source": [
    "my_slice =  another_list[::-1] # This slice operation reverses the list\n",
    "print(my_slice)"
   ]
  },
  {
   "cell_type": "code",
   "execution_count": 24,
   "id": "1d67c746",
   "metadata": {},
   "outputs": [
    {
     "name": "stdout",
     "output_type": "stream",
     "text": [
      "['Hello', 'my', 'bestest', 'new', 'friend.']\n",
      "['Hello', 'my', 'bestest', 'friend.']\n"
     ]
    }
   ],
   "source": [
    "another_list[3] = \"new\"   # Set the value at index 3 to \"new\"\n",
    "\n",
    "print(another_list)\n",
    "\n",
    "del(another_list[3])      # Delete the item at index 3\n",
    "\n",
    "print(another_list)"
   ]
  },
  {
   "cell_type": "code",
   "execution_count": 25,
   "id": "f1a67408",
   "metadata": {},
   "outputs": [
    {
     "name": "stdout",
     "output_type": "stream",
     "text": [
      "friend.\n",
      "['Hello', 'my', 'bestest']\n"
     ]
    }
   ],
   "source": [
    "next_item = another_list.pop()\n",
    "\n",
    "print(next_item)\n",
    "print(another_list)"
   ]
  },
  {
   "cell_type": "code",
   "execution_count": 26,
   "id": "72f3fc30",
   "metadata": {},
   "outputs": [
    {
     "name": "stdout",
     "output_type": "stream",
     "text": [
      "List1: [1, 2, 3, 4]\n",
      "List2: [1, 2, 3]\n"
     ]
    }
   ],
   "source": [
    "list1 = [1,2,3]                        # Make a list\n",
    "\n",
    "list2 = list1.copy()                   # Copy the list\n",
    "\n",
    "list1.append(4)                        # Add an item to list 1\n",
    "\n",
    "print(\"List1:\", list1)                 # Print both lists\n",
    "print(\"List2:\", list2)"
   ]
  },
  {
   "cell_type": "code",
   "execution_count": 27,
   "id": "b99bf4c5",
   "metadata": {},
   "outputs": [
    {
     "name": "stdout",
     "output_type": "stream",
     "text": [
      "Before appending to list1:\n",
      "List2: ['List within a list', [1, 2, 3]]\n",
      "List3: ['List within a list', [1, 2, 3]] \n",
      "\n",
      "After appending to list1:\n",
      "List2: ['List within a list', [1, 2, 3, 4]]\n",
      "List3: ['List within a list', [1, 2, 3, 4]]\n"
     ]
    }
   ],
   "source": [
    "list1 = [1,2,3]                        # Make a list\n",
    "\n",
    "list2 = [\"List within a list\", list1]  # Nest it in another list\n",
    "\n",
    "list3 = list2.copy()                   # Shallow copy list2\n",
    "\n",
    "print(\"Before appending to list1:\")\n",
    "print(\"List2:\", list2)\n",
    "print(\"List3:\", list3, \"\\n\")\n",
    "\n",
    "list1.append(4)                        # Add an item to list1\n",
    "print(\"After appending to list1:\")\n",
    "print(\"List2:\", list2)\n",
    "print(\"List3:\", list3)"
   ]
  },
  {
   "cell_type": "code",
   "execution_count": 28,
   "id": "b392d774",
   "metadata": {},
   "outputs": [
    {
     "name": "stdout",
     "output_type": "stream",
     "text": [
      "Before appending to list1:\n",
      "List2: ['List within a list', [1, 2, 3]]\n",
      "List3: ['List within a list', [1, 2, 3]] \n",
      "\n",
      "After appending to list1:\n",
      "List2: ['List within a list', [1, 2, 3, 4]]\n",
      "List3: ['List within a list', [1, 2, 3]]\n"
     ]
    }
   ],
   "source": [
    "import copy                            # Load the copy module\n",
    "\n",
    "list1 = [1,2,3]                        # Make a list\n",
    "\n",
    "list2 = [\"List within a list\", list1]  # Nest it in another list\n",
    "\n",
    "list3 = copy.deepcopy(list2)           # Deep copy list2\n",
    "\n",
    "print(\"Before appending to list1:\")\n",
    "print(\"List2:\", list2)\n",
    "print(\"List3:\", list3, \"\\n\")\n",
    "\n",
    "list1.append(4)                        # Add an item to list1\n",
    "print(\"After appending to list1:\")\n",
    "print(\"List2:\", list2)\n",
    "print(\"List3:\", list3)"
   ]
  },
  {
   "cell_type": "code",
   "execution_count": 27,
   "id": "2ead670c",
   "metadata": {},
   "outputs": [],
   "source": [
    "a = 5\n",
    "b = 3"
   ]
  },
  {
   "cell_type": "code",
   "execution_count": 28,
   "id": "3fcd2eaf",
   "metadata": {},
   "outputs": [],
   "source": [
    "if a < b:\n",
    "    print('condition 1 fulfilled')"
   ]
  },
  {
   "cell_type": "code",
   "execution_count": 29,
   "id": "13fd5f28",
   "metadata": {},
   "outputs": [
    {
     "name": "stdout",
     "output_type": "stream",
     "text": [
      "condition 2 fulfilled\n"
     ]
    }
   ],
   "source": [
    "if a > b:\n",
    "    print('condition 2 fulfilled')"
   ]
  },
  {
   "cell_type": "code",
   "execution_count": 30,
   "id": "8532cbd2",
   "metadata": {},
   "outputs": [
    {
     "name": "stdout",
     "output_type": "stream",
     "text": [
      "condition 1 fulfilled\n"
     ]
    }
   ],
   "source": [
    "a = 6\n",
    "b = 8\n",
    "if a < b:\n",
    "    print('condition 1 fulfilled')\n",
    "else:    \n",
    "    print('condition 2 fulfilled')"
   ]
  },
  {
   "cell_type": "code",
   "execution_count": 31,
   "id": "bc07ad46",
   "metadata": {},
   "outputs": [
    {
     "name": "stdout",
     "output_type": "stream",
     "text": [
      "condition 2 fulfilled\n"
     ]
    }
   ],
   "source": [
    "a = 6\n",
    "b = 8\n",
    "if a > b:\n",
    "    print('condition 1 fulfilled')\n",
    "else:    \n",
    "    print('condition 2 fulfilled')"
   ]
  },
  {
   "cell_type": "code",
   "execution_count": 32,
   "id": "95193303",
   "metadata": {},
   "outputs": [
    {
     "name": "stdout",
     "output_type": "stream",
     "text": [
      "condition 1 fulfilled\n"
     ]
    }
   ],
   "source": [
    "a = 3\n",
    "b = 5\n",
    "if a <= b:\n",
    "    print('condition 1 fulfilled')\n",
    "else:    \n",
    "    print('condition 2 fulfilled')"
   ]
  },
  {
   "cell_type": "code",
   "execution_count": 37,
   "id": "0fa08c9e",
   "metadata": {},
   "outputs": [
    {
     "name": "stdout",
     "output_type": "stream",
     "text": [
      "condition  fulfilled\n"
     ]
    }
   ],
   "source": [
    " #  ( https://www.youtube.com/watch?v=GcgmogU7wgA&t=305s )\n",
    "\n",
    "a = 5\n",
    "b = 3\n",
    "c = 15\n",
    "\n",
    "if a > b and c == a*b:\n",
    "    print('condition  fulfilled')\n",
    "   "
   ]
  },
  {
   "cell_type": "code",
   "execution_count": 39,
   "id": "5bd922ec",
   "metadata": {},
   "outputs": [
    {
     "name": "stdout",
     "output_type": "stream",
     "text": [
      "condition  fulfilled\n"
     ]
    }
   ],
   "source": [
    "#another possiblity \n",
    "\n",
    "a = 5\n",
    "b = 2\n",
    "c = 15\n",
    "\n",
    "if a > b or c == a*b:\n",
    "    print('condition  fulfilled')"
   ]
  },
  {
   "cell_type": "code",
   "execution_count": 40,
   "id": "4a5ba471",
   "metadata": {},
   "outputs": [
    {
     "name": "stdout",
     "output_type": "stream",
     "text": [
      "condition  fulfilled\n"
     ]
    }
   ],
   "source": [
    "a = 5\n",
    "b = 2\n",
    "c = 15\n",
    "\n",
    "if a > b or c != a*b:\n",
    "    print('condition  fulfilled')"
   ]
  },
  {
   "cell_type": "code",
   "execution_count": 42,
   "id": "137c3d0b",
   "metadata": {},
   "outputs": [
    {
     "name": "stdout",
     "output_type": "stream",
     "text": [
      "condition fulfilled\n"
     ]
    }
   ],
   "source": [
    "a = 9\n",
    "b = 8\n",
    "if a > b: print('condition fulfilled')\n"
   ]
  },
  {
   "cell_type": "code",
   "execution_count": 43,
   "id": "2ae5c534",
   "metadata": {},
   "outputs": [
    {
     "name": "stdout",
     "output_type": "stream",
     "text": [
      "condition fulfilled\n"
     ]
    }
   ],
   "source": [
    "a = 9\n",
    "b = 8\n",
    "print('condition fulfilled')  if a > b  else  print('condition not fullfilled')"
   ]
  }
 ],
 "metadata": {
  "kernelspec": {
   "display_name": "Python 3 (ipykernel)",
   "language": "python",
   "name": "python3"
  },
  "language_info": {
   "codemirror_mode": {
    "name": "ipython",
    "version": 3
   },
   "file_extension": ".py",
   "mimetype": "text/x-python",
   "name": "python",
   "nbconvert_exporter": "python",
   "pygments_lexer": "ipython3",
   "version": "3.9.7"
  }
 },
 "nbformat": 4,
 "nbformat_minor": 5
}
