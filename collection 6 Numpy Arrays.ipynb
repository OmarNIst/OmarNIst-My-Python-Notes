{
 "cells": [
  {
   "cell_type": "code",
   "execution_count": 5,
   "id": "0eaf3eaf",
   "metadata": {},
   "outputs": [
    {
     "name": "stdout",
     "output_type": "stream",
     "text": [
      "[1 2 3 4]\n"
     ]
    }
   ],
   "source": [
    "##    https://www.kaggle.com/hamelg/python-for-data-8-numpy-arrays\n",
    "\n",
    "\n",
    "\n",
    "\n",
    "import numpy as np      # (np) is just an acroname  we can   chose  any .......\n",
    "\n",
    "my_list = [1, 2, 3, 4]             # Define a list\n",
    "\n",
    "my_array = np.array(my_list)       # Pass the list to np.array()\n",
    "\n",
    "type(my_array)                     # Check the object's type\n",
    "print(my_array)\n"
   ]
  },
  {
   "cell_type": "code",
   "execution_count": 4,
   "id": "e2a4a804",
   "metadata": {},
   "outputs": [
    {
     "name": "stdout",
     "output_type": "stream",
     "text": [
      "[1 2 3 4]\n"
     ]
    }
   ],
   "source": [
    "import numpy as tt      \n",
    "my_list = [1, 2, 3, 4]             # Define a list\n",
    "\n",
    "my_array = tt.array(my_list)       # Pass the list to np.array()\n",
    "\n",
    "type(my_array)                     # Check the object's type\n",
    "print(my_array)\n"
   ]
  },
  {
   "cell_type": "code",
   "execution_count": 6,
   "id": "518ea8e0",
   "metadata": {},
   "outputs": [
    {
     "name": "stdout",
     "output_type": "stream",
     "text": [
      "[[1 2 3 4]\n",
      " [5 6 7 8]]\n"
     ]
    }
   ],
   "source": [
    "second_list = [5, 6, 7, 8]\n",
    "\n",
    "two_d_array = np.array([my_list, second_list])\n",
    "\n",
    "print(two_d_array)"
   ]
  },
  {
   "cell_type": "code",
   "execution_count": 7,
   "id": "924c2fe9",
   "metadata": {},
   "outputs": [
    {
     "data": {
      "text/plain": [
       "(2, 4)"
      ]
     },
     "execution_count": 7,
     "metadata": {},
     "output_type": "execute_result"
    }
   ],
   "source": [
    "two_d_array.shape   # the shape of the previos matrix"
   ]
  },
  {
   "cell_type": "code",
   "execution_count": 8,
   "id": "37543b3e",
   "metadata": {},
   "outputs": [
    {
     "data": {
      "text/plain": [
       "8"
      ]
     },
     "execution_count": 8,
     "metadata": {},
     "output_type": "execute_result"
    }
   ],
   "source": [
    "two_d_array.size"
   ]
  },
  {
   "cell_type": "code",
   "execution_count": 9,
   "id": "3a0d749d",
   "metadata": {},
   "outputs": [
    {
     "data": {
      "text/plain": [
       "dtype('int64')"
      ]
     },
     "execution_count": 9,
     "metadata": {},
     "output_type": "execute_result"
    }
   ],
   "source": [
    "# Check the type of the data in an ndarray with the dtype attribute:\n",
    "\n",
    "two_d_array.dtype"
   ]
  },
  {
   "cell_type": "code",
   "execution_count": 10,
   "id": "93ff4206",
   "metadata": {},
   "outputs": [
    {
     "data": {
      "text/plain": [
       "array([[1., 0., 0., 0., 0.],\n",
       "       [0., 1., 0., 0., 0.],\n",
       "       [0., 0., 1., 0., 0.],\n",
       "       [0., 0., 0., 1., 0.],\n",
       "       [0., 0., 0., 0., 1.]])"
      ]
     },
     "execution_count": 10,
     "metadata": {},
     "output_type": "execute_result"
    }
   ],
   "source": [
    "# np.identity() to create a square 2d array with 1's across the diagonal\n",
    "\n",
    "np.identity(n = 5)      # Size of the array"
   ]
  },
  {
   "cell_type": "code",
   "execution_count": 11,
   "id": "136fd90c",
   "metadata": {},
   "outputs": [
    {
     "data": {
      "text/plain": [
       "array([[0., 1., 0., 0., 0.],\n",
       "       [0., 0., 1., 0., 0.],\n",
       "       [0., 0., 0., 1., 0.]])"
      ]
     },
     "execution_count": 11,
     "metadata": {},
     "output_type": "execute_result"
    }
   ],
   "source": [
    "# np.eye() to create a 2d array with 1's across a specified diagonal\n",
    "\n",
    "np.eye(N = 3,  # Number of rows\n",
    "       M = 5,  # Number of columns\n",
    "       k = 1)  # Index of the diagonal (main diagonal (0) is default)"
   ]
  },
  {
   "cell_type": "code",
   "execution_count": 12,
   "id": "99787f90",
   "metadata": {},
   "outputs": [
    {
     "data": {
      "text/plain": [
       "array([[1., 1., 1., 1.],\n",
       "       [1., 1., 1., 1.]])"
      ]
     },
     "execution_count": 12,
     "metadata": {},
     "output_type": "execute_result"
    }
   ],
   "source": [
    "# np.ones() to create an array filled with ones:\n",
    "\n",
    "np.ones(shape= [2,4])"
   ]
  },
  {
   "cell_type": "code",
   "execution_count": 13,
   "id": "96bc985b",
   "metadata": {},
   "outputs": [
    {
     "data": {
      "text/plain": [
       "array([[0., 0., 0., 0., 0., 0.],\n",
       "       [0., 0., 0., 0., 0., 0.],\n",
       "       [0., 0., 0., 0., 0., 0.],\n",
       "       [0., 0., 0., 0., 0., 0.]])"
      ]
     },
     "execution_count": 13,
     "metadata": {},
     "output_type": "execute_result"
    }
   ],
   "source": [
    "# np.zeros() to create an array filled with zeros:\n",
    "\n",
    "np.zeros(shape= [4,6])"
   ]
  },
  {
   "cell_type": "code",
   "execution_count": 14,
   "id": "5ed01984",
   "metadata": {},
   "outputs": [
    {
     "data": {
      "text/plain": [
       "4"
      ]
     },
     "execution_count": 14,
     "metadata": {},
     "output_type": "execute_result"
    }
   ],
   "source": [
    "# Array Indexing and Slicing\n",
    "\n",
    "one_d_array = np.array([1,2,3,4,5,6])\n",
    "\n",
    "one_d_array[3]        # Get the item at index 3"
   ]
  },
  {
   "cell_type": "code",
   "execution_count": 15,
   "id": "a325e9d7",
   "metadata": {},
   "outputs": [
    {
     "data": {
      "text/plain": [
       "array([4, 5, 6])"
      ]
     },
     "execution_count": 15,
     "metadata": {},
     "output_type": "execute_result"
    }
   ],
   "source": [
    "one_d_array[3:]       # Get a slice from index 3 to the end"
   ]
  },
  {
   "cell_type": "code",
   "execution_count": 16,
   "id": "d50ef80e",
   "metadata": {},
   "outputs": [
    {
     "data": {
      "text/plain": [
       "array([6, 5, 4, 3, 2, 1])"
      ]
     },
     "execution_count": 16,
     "metadata": {},
     "output_type": "execute_result"
    }
   ],
   "source": [
    "one_d_array[::-1]     # Slice backwards to reverse the array"
   ]
  },
  {
   "cell_type": "code",
   "execution_count": 17,
   "id": "deda9cc1",
   "metadata": {},
   "outputs": [
    {
     "name": "stdout",
     "output_type": "stream",
     "text": [
      "[[ 1  2  3  4  5  6]\n",
      " [ 7  8  9 10 11 12]\n",
      " [13 14 15 16 17 18]]\n"
     ]
    }
   ],
   "source": [
    "# Create a new 2d array\n",
    "two_d_array = np.array([one_d_array, one_d_array + 6, one_d_array + 12])    # very nice\n",
    "\n",
    "print(two_d_array)"
   ]
  },
  {
   "cell_type": "code",
   "execution_count": 18,
   "id": "01cbe704",
   "metadata": {},
   "outputs": [
    {
     "data": {
      "text/plain": [
       "11"
      ]
     },
     "execution_count": 18,
     "metadata": {},
     "output_type": "execute_result"
    }
   ],
   "source": [
    "# Get the element at row index 1, column index 4\n",
    "\n",
    "two_d_array[1, 4]"
   ]
  },
  {
   "cell_type": "code",
   "execution_count": 19,
   "id": "6b2262b9",
   "metadata": {},
   "outputs": [
    {
     "data": {
      "text/plain": [
       "array([[11, 12],\n",
       "       [17, 18]])"
      ]
     },
     "execution_count": 19,
     "metadata": {},
     "output_type": "execute_result"
    }
   ],
   "source": [
    "# Slice elements starting at row 2, and column 5\n",
    "\n",
    "two_d_array[1:, 4:]"
   ]
  },
  {
   "cell_type": "code",
   "execution_count": 20,
   "id": "c0fe2602",
   "metadata": {},
   "outputs": [
    {
     "data": {
      "text/plain": [
       "array([[18, 17, 16, 15, 14, 13],\n",
       "       [12, 11, 10,  9,  8,  7],\n",
       "       [ 6,  5,  4,  3,  2,  1]])"
      ]
     },
     "execution_count": 20,
     "metadata": {},
     "output_type": "execute_result"
    }
   ],
   "source": [
    "# Reverse both dimensions (180 degree rotation)\n",
    "\n",
    "two_d_array[::-1, ::-1]"
   ]
  },
  {
   "cell_type": "code",
   "execution_count": 21,
   "id": "c177b74b",
   "metadata": {},
   "outputs": [
    {
     "data": {
      "text/plain": [
       "array([[ 1,  2,  3],\n",
       "       [ 4,  5,  6],\n",
       "       [ 7,  8,  9],\n",
       "       [10, 11, 12],\n",
       "       [13, 14, 15],\n",
       "       [16, 17, 18]])"
      ]
     },
     "execution_count": 21,
     "metadata": {},
     "output_type": "execute_result"
    }
   ],
   "source": [
    "# Reshaping Arrays\n",
    "\n",
    "np.reshape(a=two_d_array,        # Array to reshape\n",
    "           newshape=(6,3))       # Dimensions of the new array"
   ]
  },
  {
   "cell_type": "code",
   "execution_count": 22,
   "id": "5009e8ad",
   "metadata": {},
   "outputs": [
    {
     "data": {
      "text/plain": [
       "array([ 1,  2,  3,  4,  5,  6,  7,  8,  9, 10, 11, 12, 13, 14, 15, 16, 17,\n",
       "       18])"
      ]
     },
     "execution_count": 22,
     "metadata": {},
     "output_type": "execute_result"
    }
   ],
   "source": [
    "np.ravel(a=two_d_array,\n",
    "         order='C')         # Use C-style unraveling (by rows)"
   ]
  },
  {
   "cell_type": "code",
   "execution_count": 23,
   "id": "d2c1e20b",
   "metadata": {},
   "outputs": [
    {
     "data": {
      "text/plain": [
       "array([ 1,  7, 13,  2,  8, 14,  3,  9, 15,  4, 10, 16,  5, 11, 17,  6, 12,\n",
       "       18])"
      ]
     },
     "execution_count": 23,
     "metadata": {},
     "output_type": "execute_result"
    }
   ],
   "source": [
    "np.ravel(a=two_d_array,\n",
    "         order='F')         # Use Fortran-style unraveling (by columns)"
   ]
  },
  {
   "cell_type": "code",
   "execution_count": 24,
   "id": "0611c2f4",
   "metadata": {},
   "outputs": [
    {
     "data": {
      "text/plain": [
       "array([ 1,  2,  3,  4,  5,  6,  7,  8,  9, 10, 11, 12, 13, 14, 15, 16, 17,\n",
       "       18])"
      ]
     },
     "execution_count": 24,
     "metadata": {},
     "output_type": "execute_result"
    }
   ],
   "source": [
    "two_d_array.flatten()"
   ]
  },
  {
   "cell_type": "code",
   "execution_count": 25,
   "id": "41337ffa",
   "metadata": {},
   "outputs": [
    {
     "data": {
      "text/plain": [
       "array([[ 1,  7, 13],\n",
       "       [ 2,  8, 14],\n",
       "       [ 3,  9, 15],\n",
       "       [ 4, 10, 16],\n",
       "       [ 5, 11, 17],\n",
       "       [ 6, 12, 18]])"
      ]
     },
     "execution_count": 25,
     "metadata": {},
     "output_type": "execute_result"
    }
   ],
   "source": [
    "two_d_array.T"
   ]
  },
  {
   "cell_type": "code",
   "execution_count": 26,
   "id": "0687d3e2",
   "metadata": {},
   "outputs": [
    {
     "data": {
      "text/plain": [
       "array([[13, 14, 15, 16, 17, 18],\n",
       "       [ 7,  8,  9, 10, 11, 12],\n",
       "       [ 1,  2,  3,  4,  5,  6]])"
      ]
     },
     "execution_count": 26,
     "metadata": {},
     "output_type": "execute_result"
    }
   ],
   "source": [
    "np.flipud(two_d_array)"
   ]
  },
  {
   "cell_type": "code",
   "execution_count": 27,
   "id": "824a71cd",
   "metadata": {},
   "outputs": [
    {
     "data": {
      "text/plain": [
       "array([[ 6,  5,  4,  3,  2,  1],\n",
       "       [12, 11, 10,  9,  8,  7],\n",
       "       [18, 17, 16, 15, 14, 13]])"
      ]
     },
     "execution_count": 27,
     "metadata": {},
     "output_type": "execute_result"
    }
   ],
   "source": [
    "np.fliplr(two_d_array)"
   ]
  },
  {
   "cell_type": "code",
   "execution_count": 28,
   "id": "70fee6d1",
   "metadata": {},
   "outputs": [
    {
     "data": {
      "text/plain": [
       "array([[ 6, 12, 18],\n",
       "       [ 5, 11, 17],\n",
       "       [ 4, 10, 16],\n",
       "       [ 3,  9, 15],\n",
       "       [ 2,  8, 14],\n",
       "       [ 1,  7, 13]])"
      ]
     },
     "execution_count": 28,
     "metadata": {},
     "output_type": "execute_result"
    }
   ],
   "source": [
    "np.rot90(two_d_array,\n",
    "         k=1)             # Number of 90 degree rotations"
   ]
  },
  {
   "cell_type": "code",
   "execution_count": 29,
   "id": "6359b149",
   "metadata": {},
   "outputs": [
    {
     "data": {
      "text/plain": [
       "array([[ 5,  6,  1,  2,  3,  4],\n",
       "       [11, 12,  7,  8,  9, 10],\n",
       "       [17, 18, 13, 14, 15, 16]])"
      ]
     },
     "execution_count": 29,
     "metadata": {},
     "output_type": "execute_result"
    }
   ],
   "source": [
    "np.roll(a= two_d_array,\n",
    "        shift = 2,        # Shift elements 2 positions\n",
    "        axis = 1)         # In each row"
   ]
  },
  {
   "cell_type": "code",
   "execution_count": 30,
   "id": "32d98dfa",
   "metadata": {},
   "outputs": [
    {
     "data": {
      "text/plain": [
       "array([[17, 18,  1,  2,  3,  4],\n",
       "       [ 5,  6,  7,  8,  9, 10],\n",
       "       [11, 12, 13, 14, 15, 16]])"
      ]
     },
     "execution_count": 30,
     "metadata": {},
     "output_type": "execute_result"
    }
   ],
   "source": [
    "np.roll(a= two_d_array,\n",
    "        shift = 2)"
   ]
  },
  {
   "cell_type": "code",
   "execution_count": 31,
   "id": "dad6405a",
   "metadata": {},
   "outputs": [
    {
     "data": {
      "text/plain": [
       "array([[ 1,  2,  3,  4,  5,  6, 10, 20, 30],\n",
       "       [ 7,  8,  9, 10, 11, 12, 40, 50, 60],\n",
       "       [13, 14, 15, 16, 17, 18, 70, 80, 90]])"
      ]
     },
     "execution_count": 31,
     "metadata": {},
     "output_type": "execute_result"
    }
   ],
   "source": [
    "array_to_join = np.array([[10,20,30],[40,50,60],[70,80,90]])\n",
    "\n",
    "np.concatenate( (two_d_array,array_to_join),  # Arrays to join\n",
    "               axis=1)                        # Axis to join upon"
   ]
  },
  {
   "cell_type": "code",
   "execution_count": null,
   "id": "2a8a711c",
   "metadata": {},
   "outputs": [],
   "source": [
    "#Array Math Operations"
   ]
  },
  {
   "cell_type": "code",
   "execution_count": 32,
   "id": "7e345097",
   "metadata": {},
   "outputs": [
    {
     "data": {
      "text/plain": [
       "array([[101, 102, 103, 104, 105, 106],\n",
       "       [107, 108, 109, 110, 111, 112],\n",
       "       [113, 114, 115, 116, 117, 118]])"
      ]
     },
     "execution_count": 32,
     "metadata": {},
     "output_type": "execute_result"
    }
   ],
   "source": [
    "two_d_array + 100    # Add 100 to each element"
   ]
  },
  {
   "cell_type": "code",
   "execution_count": 33,
   "id": "69410cf0",
   "metadata": {},
   "outputs": [
    {
     "data": {
      "text/plain": [
       "array([[-99, -98, -97, -96, -95, -94],\n",
       "       [-93, -92, -91, -90, -89, -88],\n",
       "       [-87, -86, -85, -84, -83, -82]])"
      ]
     },
     "execution_count": 33,
     "metadata": {},
     "output_type": "execute_result"
    }
   ],
   "source": [
    "two_d_array - 100    # Subtract 100 from each element"
   ]
  },
  {
   "cell_type": "code",
   "execution_count": 34,
   "id": "1e85df73",
   "metadata": {},
   "outputs": [
    {
     "data": {
      "text/plain": [
       "array([[ 2,  4,  6,  8, 10, 12],\n",
       "       [14, 16, 18, 20, 22, 24],\n",
       "       [26, 28, 30, 32, 34, 36]])"
      ]
     },
     "execution_count": 34,
     "metadata": {},
     "output_type": "execute_result"
    }
   ],
   "source": [
    "two_d_array * 2      # Multiply each element by 2"
   ]
  },
  {
   "cell_type": "code",
   "execution_count": 35,
   "id": "16a233a5",
   "metadata": {},
   "outputs": [
    {
     "data": {
      "text/plain": [
       "array([[  1,   4,   9,  16,  25,  36],\n",
       "       [ 49,  64,  81, 100, 121, 144],\n",
       "       [169, 196, 225, 256, 289, 324]])"
      ]
     },
     "execution_count": 35,
     "metadata": {},
     "output_type": "execute_result"
    }
   ],
   "source": [
    "two_d_array ** 2      # Square each element"
   ]
  },
  {
   "cell_type": "code",
   "execution_count": 36,
   "id": "55eb33ef",
   "metadata": {},
   "outputs": [
    {
     "data": {
      "text/plain": [
       "array([[1, 0, 1, 0, 1, 0],\n",
       "       [1, 0, 1, 0, 1, 0],\n",
       "       [1, 0, 1, 0, 1, 0]])"
      ]
     },
     "execution_count": 36,
     "metadata": {},
     "output_type": "execute_result"
    }
   ],
   "source": [
    "two_d_array % 2       # Take modulus of each element "
   ]
  },
  {
   "cell_type": "code",
   "execution_count": 37,
   "id": "d92f82d5",
   "metadata": {},
   "outputs": [
    {
     "data": {
      "text/plain": [
       "array([[2, 4],\n",
       "       [6, 8]])"
      ]
     },
     "execution_count": 37,
     "metadata": {},
     "output_type": "execute_result"
    }
   ],
   "source": [
    "small_array1 = np.array([[1,2],[3,4]])\n",
    "\n",
    "small_array1 + small_array1"
   ]
  },
  {
   "cell_type": "code",
   "execution_count": 38,
   "id": "55fe0834",
   "metadata": {},
   "outputs": [
    {
     "data": {
      "text/plain": [
       "array([[0, 0],\n",
       "       [0, 0]])"
      ]
     },
     "execution_count": 38,
     "metadata": {},
     "output_type": "execute_result"
    }
   ],
   "source": [
    "small_array1 - small_array1"
   ]
  },
  {
   "cell_type": "code",
   "execution_count": 39,
   "id": "edd5dc69",
   "metadata": {},
   "outputs": [
    {
     "data": {
      "text/plain": [
       "array([[ 1,  4],\n",
       "       [ 9, 16]])"
      ]
     },
     "execution_count": 39,
     "metadata": {},
     "output_type": "execute_result"
    }
   ],
   "source": [
    "small_array1 * small_array1"
   ]
  },
  {
   "cell_type": "code",
   "execution_count": 40,
   "id": "c9d79bc3",
   "metadata": {},
   "outputs": [
    {
     "data": {
      "text/plain": [
       "array([[  1,   4],\n",
       "       [ 27, 256]])"
      ]
     },
     "execution_count": 40,
     "metadata": {},
     "output_type": "execute_result"
    }
   ],
   "source": [
    "small_array1 ** small_array1"
   ]
  },
  {
   "cell_type": "code",
   "execution_count": 41,
   "id": "c2cbda57",
   "metadata": {},
   "outputs": [
    {
     "data": {
      "text/plain": [
       "9.5"
      ]
     },
     "execution_count": 41,
     "metadata": {},
     "output_type": "execute_result"
    }
   ],
   "source": [
    "# Get the mean of all the elements in an array with np.mean()\n",
    "\n",
    "np.mean(two_d_array)"
   ]
  },
  {
   "cell_type": "code",
   "execution_count": 42,
   "id": "0e0b48dd",
   "metadata": {},
   "outputs": [
    {
     "data": {
      "text/plain": [
       "array([ 3.5,  9.5, 15.5])"
      ]
     },
     "execution_count": 42,
     "metadata": {},
     "output_type": "execute_result"
    }
   ],
   "source": [
    "# Provide an axis argument to get means across a dimension\n",
    "\n",
    "np.mean(two_d_array,\n",
    "        axis = 1)     # Get means of each row"
   ]
  },
  {
   "cell_type": "code",
   "execution_count": 43,
   "id": "4616f89a",
   "metadata": {},
   "outputs": [
    {
     "data": {
      "text/plain": [
       "5.188127472091127"
      ]
     },
     "execution_count": 43,
     "metadata": {},
     "output_type": "execute_result"
    }
   ],
   "source": [
    "# Get the standard deviation all the elements in an array with np.std()\n",
    "\n",
    "np.std(two_d_array)"
   ]
  },
  {
   "cell_type": "code",
   "execution_count": 44,
   "id": "673c1af5",
   "metadata": {},
   "outputs": [
    {
     "data": {
      "text/plain": [
       "array([4.89897949, 4.89897949, 4.89897949, 4.89897949, 4.89897949,\n",
       "       4.89897949])"
      ]
     },
     "execution_count": 44,
     "metadata": {},
     "output_type": "execute_result"
    }
   ],
   "source": [
    "# Provide an axis argument to get standard deviations across a dimension\n",
    "\n",
    "np.std(two_d_array,\n",
    "        axis = 0)     # Get stdev for each column"
   ]
  },
  {
   "cell_type": "code",
   "execution_count": 45,
   "id": "8fd89eb6",
   "metadata": {},
   "outputs": [
    {
     "data": {
      "text/plain": [
       "array([21, 57, 93])"
      ]
     },
     "execution_count": 45,
     "metadata": {},
     "output_type": "execute_result"
    }
   ],
   "source": [
    "# Sum the elements of an array across an axis with np.sum()\n",
    "\n",
    "np.sum(two_d_array, \n",
    "       axis=1)        # Get the row sums"
   ]
  },
  {
   "cell_type": "code",
   "execution_count": 46,
   "id": "1acc2b7b",
   "metadata": {},
   "outputs": [
    {
     "data": {
      "text/plain": [
       "array([21, 24, 27, 30, 33, 36])"
      ]
     },
     "execution_count": 46,
     "metadata": {},
     "output_type": "execute_result"
    }
   ],
   "source": [
    "np.sum(two_d_array,\n",
    "       axis=0)        # Get the column sums"
   ]
  },
  {
   "cell_type": "code",
   "execution_count": 47,
   "id": "fdd580e7",
   "metadata": {},
   "outputs": [
    {
     "data": {
      "text/plain": [
       "array([[0.        , 0.69314718, 1.09861229, 1.38629436, 1.60943791,\n",
       "        1.79175947],\n",
       "       [1.94591015, 2.07944154, 2.19722458, 2.30258509, 2.39789527,\n",
       "        2.48490665],\n",
       "       [2.56494936, 2.63905733, 2.7080502 , 2.77258872, 2.83321334,\n",
       "        2.89037176]])"
      ]
     },
     "execution_count": 47,
     "metadata": {},
     "output_type": "execute_result"
    }
   ],
   "source": [
    "# Take the log of each element in an array with np.log()\n",
    "\n",
    "np.log(two_d_array)"
   ]
  },
  {
   "cell_type": "code",
   "execution_count": 48,
   "id": "918fb06c",
   "metadata": {},
   "outputs": [
    {
     "data": {
      "text/plain": [
       "array([[1.        , 1.41421356, 1.73205081, 2.        , 2.23606798,\n",
       "        2.44948974],\n",
       "       [2.64575131, 2.82842712, 3.        , 3.16227766, 3.31662479,\n",
       "        3.46410162],\n",
       "       [3.60555128, 3.74165739, 3.87298335, 4.        , 4.12310563,\n",
       "        4.24264069]])"
      ]
     },
     "execution_count": 48,
     "metadata": {},
     "output_type": "execute_result"
    }
   ],
   "source": [
    "# Take the square root of each element with np.sqrt()\n",
    "\n",
    "np.sqrt(two_d_array)"
   ]
  },
  {
   "cell_type": "code",
   "execution_count": 49,
   "id": "0935809b",
   "metadata": {},
   "outputs": [
    {
     "data": {
      "text/plain": [
       "217"
      ]
     },
     "execution_count": 49,
     "metadata": {},
     "output_type": "execute_result"
    }
   ],
   "source": [
    "# Take the vector dot product of row 0 and row 1\n",
    "\n",
    "np.dot(two_d_array[0,0:],  # Slice row 0\n",
    "       two_d_array[1,0:])  # Slice row 1Annealing of defects"
   ]
  },
  {
   "cell_type": "code",
   "execution_count": 50,
   "id": "12a0f203",
   "metadata": {},
   "outputs": [
    {
     "data": {
      "text/plain": [
       "array([[ 7, 10],\n",
       "       [15, 22]])"
      ]
     },
     "execution_count": 50,
     "metadata": {},
     "output_type": "execute_result"
    }
   ],
   "source": [
    "# Do a matrix multiply\n",
    "\n",
    "np.dot(small_array1, small_array1)"
   ]
  }
 ],
 "metadata": {
  "kernelspec": {
   "display_name": "Python 3 (ipykernel)",
   "language": "python",
   "name": "python3"
  },
  "language_info": {
   "codemirror_mode": {
    "name": "ipython",
    "version": 3
   },
   "file_extension": ".py",
   "mimetype": "text/x-python",
   "name": "python",
   "nbconvert_exporter": "python",
   "pygments_lexer": "ipython3",
   "version": "3.9.7"
  }
 },
 "nbformat": 4,
 "nbformat_minor": 5
}
